{
 "cells": [
  {
   "cell_type": "code",
   "execution_count": 1,
   "metadata": {},
   "outputs": [],
   "source": [
    "# tweak this to fit your actual power price, I'm using the 2017 US average\n",
    "price_per_kwh = 0.1054 # in $\n",
    "\n",
    "\n",
    "consumption = 250\n",
    "\n",
    "# your pc will consume about 250 Watt, which results in about 50% load on the psu\n",
    "# wikipedia gives us the following efficiency factors for 50% load:\n",
    "efficiency_bronze = 0.85\n",
    "efficiency_gold = 0.92\n",
    "\n",
    "days = 365\n",
    "hours_per_day = 4"
   ]
  },
  {
   "cell_type": "code",
   "execution_count": 2,
   "metadata": {},
   "outputs": [
    {
     "name": "stdout",
     "output_type": "stream",
     "text": [
      "  294.11764705882354\n",
      "- 271.7391304347826\n",
      "---------\n",
      "22.378516624040913\n"
     ]
    }
   ],
   "source": [
    "#Actual power consumption\n",
    "consumption_bronze = consumption / efficiency_bronze\n",
    "consumption_gold = consumption / efficiency_gold\n",
    "consumption_difference = consumption_bronze - consumption_gold\n",
    "\n",
    "print(\" \", consumption_bronze)\n",
    "print(\"-\", consumption_gold)\n",
    "print(\"---------\")\n",
    "print(consumption_difference)"
   ]
  },
  {
   "cell_type": "code",
   "execution_count": 3,
   "metadata": {},
   "outputs": [
    {
     "name": "stdout",
     "output_type": "stream",
     "text": [
      "32.67263427109973 kwh saved per year\n"
     ]
    }
   ],
   "source": [
    "hours_per_year = days*hours_per_day\n",
    "# also dividing by 1000 to convert from Wh to kWh\n",
    "difference_per_year = consumption_difference * hours_per_year / 1000\n",
    "print(difference_per_year, \"kwh saved per year\")"
   ]
  },
  {
   "cell_type": "code",
   "execution_count": 4,
   "metadata": {},
   "outputs": [
    {
     "name": "stdout",
     "output_type": "stream",
     "text": [
      "3.4436956521739117 $ saved per year\n"
     ]
    }
   ],
   "source": [
    "savings_per_year = difference_per_year * price_per_kwh\n",
    "print(savings_per_year, \"$ saved per year\")"
   ]
  },
  {
   "cell_type": "code",
   "execution_count": null,
   "metadata": {},
   "outputs": [],
   "source": []
  },
  {
   "cell_type": "code",
   "execution_count": null,
   "metadata": {},
   "outputs": [],
   "source": []
  },
  {
   "cell_type": "code",
   "execution_count": null,
   "metadata": {},
   "outputs": [],
   "source": []
  },
  {
   "cell_type": "code",
   "execution_count": null,
   "metadata": {},
   "outputs": [],
   "source": []
  }
 ],
 "metadata": {
  "kernelspec": {
   "display_name": "Python 3",
   "language": "python",
   "name": "python3"
  },
  "language_info": {
   "codemirror_mode": {
    "name": "ipython",
    "version": 3
   },
   "file_extension": ".py",
   "mimetype": "text/x-python",
   "name": "python",
   "nbconvert_exporter": "python",
   "pygments_lexer": "ipython3",
   "version": "3.7.0"
  }
 },
 "nbformat": 4,
 "nbformat_minor": 2
}
